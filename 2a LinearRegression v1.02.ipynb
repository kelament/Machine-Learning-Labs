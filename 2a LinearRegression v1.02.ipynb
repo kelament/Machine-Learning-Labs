{
 "cells": [
  {
   "cell_type": "markdown",
   "metadata": {},
   "source": [
    "# Polynomial features using [PolynomialFeatures](https://scikit-learn.org/stable/modules/generated/sklearn.preprocessing.PolynomialFeatures.html) class"
   ]
  },
  {
   "cell_type": "code",
   "execution_count": 45,
   "metadata": {},
   "outputs": [],
   "source": [
    "from sklearn import datasets\n",
    "\n",
    "housing_data, housing_target = datasets.load_boston(return_X_y = True)\n",
    "#print(housing_data)\n",
    "#print(housing_target)\n"
   ]
  },
  {
   "cell_type": "code",
   "execution_count": 6,
   "metadata": {},
   "outputs": [
    {
     "data": {
      "text/plain": [
       "(506, 13)"
      ]
     },
     "execution_count": 6,
     "metadata": {},
     "output_type": "execute_result"
    }
   ],
   "source": [
    "housing_data.shape"
   ]
  },
  {
   "cell_type": "code",
   "execution_count": 21,
   "metadata": {},
   "outputs": [],
   "source": [
    "from sklearn.model_selection import train_test_split\n",
    "\n",
    "housig_train, housig_test, housig_train_t, housig_test_t  =  \\\n",
    "train_test_split(housing_data, housing_target, test_size=0.1, random_state=1010)"
   ]
  },
  {
   "cell_type": "markdown",
   "metadata": {},
   "source": [
    "## Let's train regular regression as a benchmark"
   ]
  },
  {
   "cell_type": "code",
   "execution_count": 22,
   "metadata": {},
   "outputs": [],
   "source": [
    "from sklearn.linear_model import LinearRegression\n",
    "\n",
    "lr = LinearRegression(normalize=True)"
   ]
  },
  {
   "cell_type": "code",
   "execution_count": 23,
   "metadata": {},
   "outputs": [
    {
     "data": {
      "text/plain": [
       "LinearRegression(copy_X=True, fit_intercept=True, n_jobs=None, normalize=True)"
      ]
     },
     "execution_count": 23,
     "metadata": {},
     "output_type": "execute_result"
    }
   ],
   "source": [
    "lr.fit(housig_train, housig_train_t)"
   ]
  },
  {
   "cell_type": "code",
   "execution_count": 24,
   "metadata": {},
   "outputs": [
    {
     "name": "stdout",
     "output_type": "stream",
     "text": [
      "Mean squared error of a linear moderl: 27.38\n",
      "Linear Regression variance score: 0.78\n"
     ]
    }
   ],
   "source": [
    "from sklearn.metrics import mean_squared_error\n",
    "\n",
    "print(\"Mean squared error of a linear moderl: %.2f\" % \n",
    "      mean_squared_error(housig_test_t, lr.predict(housig_test)))\n",
    "score = lr.score(housig_test, housig_test_t) #r2_score\n",
    "print(\"Linear Regression variance score: %.2f\" % score)"
   ]
  },
  {
   "cell_type": "code",
   "execution_count": null,
   "metadata": {},
   "outputs": [],
   "source": []
  },
  {
   "cell_type": "markdown",
   "metadata": {},
   "source": [
    "## Let's generate polynomial features"
   ]
  },
  {
   "cell_type": "code",
   "execution_count": 11,
   "metadata": {},
   "outputs": [],
   "source": [
    "from sklearn.preprocessing import PolynomialFeatures\n",
    "\n",
    "pt = PolynomialFeatures(2, ) # interaction_only=True)"
   ]
  },
  {
   "cell_type": "code",
   "execution_count": 12,
   "metadata": {},
   "outputs": [
    {
     "data": {
      "text/plain": [
       "(455, 105)"
      ]
     },
     "execution_count": 12,
     "metadata": {},
     "output_type": "execute_result"
    }
   ],
   "source": [
    "housig_train_poly = pt.fit_transform(housig_train)\n",
    "housig_train_poly.shape"
   ]
  },
  {
   "cell_type": "code",
   "execution_count": 13,
   "metadata": {},
   "outputs": [],
   "source": [
    "housig_test_poly = pt.fit_transform(housig_test)"
   ]
  },
  {
   "cell_type": "code",
   "execution_count": 14,
   "metadata": {},
   "outputs": [],
   "source": [
    "lr_poly = LinearRegression(normalize = True)"
   ]
  },
  {
   "cell_type": "code",
   "execution_count": 15,
   "metadata": {},
   "outputs": [
    {
     "data": {
      "text/plain": [
       "LinearRegression(copy_X=True, fit_intercept=True, n_jobs=None, normalize=True)"
      ]
     },
     "execution_count": 15,
     "metadata": {},
     "output_type": "execute_result"
    }
   ],
   "source": [
    "lr_poly.fit(housig_train_poly, housig_train_t)"
   ]
  },
  {
   "cell_type": "code",
   "execution_count": 16,
   "metadata": {},
   "outputs": [
    {
     "name": "stdout",
     "output_type": "stream",
     "text": [
      "Mean squared error of a linear moderl using polynomial features: 16.37\n",
      "Linear Regression variance score using polynomial features: 0.87\n"
     ]
    }
   ],
   "source": [
    "print(\"Mean squared error of a linear moderl using polynomial features: %.2f\" % \n",
    "      mean_squared_error(housig_test_t, lr_poly.predict(housig_test_poly)))\n",
    "score = lr_poly.score(housig_test_poly, housig_test_t) #r2_score\n",
    "print(\"Linear Regression variance score using polynomial features: %.2f\" % score)"
   ]
  },
  {
   "cell_type": "code",
   "execution_count": 17,
   "metadata": {},
   "outputs": [],
   "source": [
    "#print(lr_poly.coef_)"
   ]
  },
  {
   "cell_type": "code",
   "execution_count": 93,
   "metadata": {},
   "outputs": [
    {
     "name": "stdout",
     "output_type": "stream",
     "text": [
      "MSE (test): 27.377664753228565\n",
      "MSE (train): 21.349730011661823\n",
      "\n",
      "MSE (test): 16.37406749937483\n",
      "MSE (train): 5.6425142523808995\n",
      "\n",
      "MSE (test): 745803.7716537825\n",
      "MSE (train): 6.3875768464577815e-18\n",
      "\n",
      "MSE (test): 1911.8818692156706\n",
      "MSE (train): 1.8442868542651085e-23\n",
      "\n",
      "MSE (test): 1335.8251455824968\n",
      "MSE (train): 9.451683853368553e-24\n",
      "\n"
     ]
    },
    {
     "data": {
      "image/png": "[encoded data removed]",
      "text/plain": [
       "<Figure size 432x288 with 1 Axes>"
      ]
     },
     "metadata": {
      "needs_background": "light"
     },
     "output_type": "display_data"
    },
    {
     "data": {
      "image/png": "[encoded data removed]",
      "text/plain": [
       "<Figure size 432x288 with 1 Axes>"
      ]
     },
     "metadata": {
      "needs_background": "light"
     },
     "output_type": "display_data"
    }
   ],
   "source": [
    "# ToDo: plot how quality of solution (mean squared error) change \n",
    "# with change in polynomial features. Plot mean squared error in terms of a polynomial degree for _training_ and \n",
    "# _testing_ data. How one can check if model is overfitted to train data? (train maleje, test rosnie)\n",
    "import matplotlib.pyplot as plt\n",
    "\n",
    "x,msearr,scorearr,msetrarr=[],[],[],[]\n",
    "\n",
    "housing_data, housing_target = datasets.load_boston(return_X_y = True)\n",
    "housig_train, housig_test, housig_train_t, housig_test_t  = train_test_split(housing_data, housing_target, test_size=0.1, random_state=1010)\n",
    "\n",
    "\n",
    "for i in range (1,6):\n",
    "    \n",
    "    pt = PolynomialFeatures(degree=i)\n",
    "    housig_train_poly = pt.fit_transform(housig_train)\n",
    "    housig_train_poly.shape\n",
    "    housig_test_poly = pt.fit_transform(housig_test)\n",
    "    lr_poly = LinearRegression(normalize = True)\n",
    "    lr_poly.fit(housig_train_poly, housig_train_t)\n",
    "    \n",
    "    mse = mean_squared_error(housig_test_t, lr_poly.predict(housig_test_poly))\n",
    "    print(\"MSE (test):\", mse)\n",
    "    mse_tr = mean_squared_error(housig_train_t, lr_poly.predict(housig_train_poly))\n",
    "    print(\"MSE (train):\", mse_tr)\n",
    "    \n",
    "#     score = lr_poly.score(housig_test_poly, housig_test_t)\n",
    "#     print(\"Linear Regression variance score using polynomial features:\", score)\n",
    "    print()\n",
    "    x.append(i)\n",
    "    msearr.append(mse)\n",
    "    scorearr.append(score)\n",
    "    msetrarr.append(mse_tr)\n",
    "#     plt.plot(lr_poly.predict(housig_test_poly))\n",
    "#     plt.plot(housig_test_t, color=\"r\")\n",
    "#     plt.show()\n",
    "\n",
    "# print(msearr)\n",
    "# print(scorearr)\n",
    "\n",
    "plt.plot(x,msearr,'o')\n",
    "plt.title(\"Mean squared error (test)\")\n",
    "plt.show()\n",
    "\n",
    "plt.plot(x,msetrarr,'o')\n",
    "plt.title(\"Mean squared error(train)\")\n",
    "plt.show()\n",
    "\n",
    "# plt.plot(x,scorearr,'o')\n",
    "# plt.title(\"Score\")\n",
    "# plt.show()\n",
    "\n",
    "\n",
    "\n",
    "\n",
    "    \n",
    "    \n",
    "\n"
   ]
  },
  {
   "cell_type": "markdown",
   "metadata": {},
   "source": [
    "### Feature ranking with recursive feature elimination with [RFE](https://scikit-learn.org/stable/modules/generated/sklearn.feature_selection.RFE.html)."
   ]
  },
  {
   "cell_type": "code",
   "execution_count": 86,
   "metadata": {},
   "outputs": [],
   "source": [
    "from sklearn.feature_selection import RFE\n",
    "\n",
    "sel_ = RFE(estimator=LinearRegression(normalize=False), n_features_to_select=60)\n",
    "sel_.fit(housig_train_poly, housig_train_t)\n",
    "\n",
    "print(sel_.support_)\n",
    "print(sel_.ranking_)\n"
   ]
  },
  {
   "cell_type": "code",
   "execution_count": null,
   "metadata": {},
   "outputs": [],
   "source": [
    "print(\"Mean squared error of a linear moderl using _selected_ polynomial features: %.2f\" % \n",
    "      mean_squared_error(housig_test_t, sel_.predict(housig_test_poly)))\n",
    "score = sel_.score(housig_test_poly, housig_test_t) #r2_score\n",
    "print(\"Linear Regression variance score using _selected_ polynomial features: %.2f\" % score)"
   ]
  },
  {
   "cell_type": "code",
   "execution_count": 95,
   "metadata": {},
   "outputs": [
    {
     "data": {
      "image/png": "[encoded data removed]",
      "text/plain": [
       "<Figure size 432x288 with 1 Axes>"
      ]
     },
     "metadata": {
      "needs_background": "light"
     },
     "output_type": "display_data"
    }
   ],
   "source": [
    "# ToDo: plot how quality of solution (mean squared error) change \n",
    "# with change in number of features selected using recursive feature elimination.\n",
    "# Generate a polynominal features with the degree of 3 and check the quality of solution \n",
    "# (by polotting mean squared error) for [5, 10, 15, 20, 25, 30, 35, 40, 45, 50, 55, 60] features\n",
    "\n",
    "import matplotlib.pyplot as plt\n",
    "import numpy as np\n",
    "\n",
    "x = np.linspace(5,60, 12)\n",
    "\n",
    "msearr,scorearr=[],[]\n",
    "\n",
    "housing_data, housing_target = datasets.load_boston(return_X_y = True)\n",
    "housig_train, housig_test, housig_train_t, housig_test_t  = train_test_split(housing_data, housing_target, test_size=0.1, random_state=1010)\n",
    "\n",
    "pt = PolynomialFeatures(3, )\n",
    "housig_train_poly = pt.fit_transform(housig_train)\n",
    "housig_train_poly.shape\n",
    "housig_test_poly = pt.fit_transform(housig_test)\n",
    "lr_poly = LinearRegression(normalize = True)\n",
    "lr_poly.fit(housig_train_poly, housig_train_t)\n",
    "mse = mean_squared_error(housig_test_t, lr_poly.predict(housig_test_poly))\n",
    "# print(\"Mean squared error of a linear moderl using polynomial features:\", mse)\n",
    "score = lr_poly.score(housig_test_poly, housig_test_t)\n",
    "# print(\"Linear Regression variance score using polynomial features:\", score)\n",
    "# print()\n",
    "\n",
    "\n",
    "#-----------------------------------------\n",
    "\n",
    "\n",
    "from sklearn.feature_selection import RFE\n",
    "\n",
    "for i in range(5,61,5):\n",
    "    \n",
    "#     print(\"features_to_select: \", i)\n",
    "    \n",
    "    sel_ = RFE(estimator=LinearRegression(normalize=False), n_features_to_select=i)\n",
    "    sel_.fit(housig_train_poly, housig_train_t)\n",
    "    mse = mean_squared_error(housig_test_t, sel_.predict(housig_test_poly))\n",
    "    \n",
    "#     print(\"Mean squared error:\", mse)\n",
    "    msearr.append(mse)\n",
    "    \n",
    "    score = sel_.score(housig_test_poly, housig_test_t) \n",
    "#     print(\"Score:\", score)\n",
    "    scorearr.append(score)\n",
    "    \n",
    "#     plt.plot(sel_.predict(housig_test_poly), color=\"b\")\n",
    "#     plt.plot(housig_test_t, color=\"r\")\n",
    "#     plt.show()\n",
    "    \n",
    "#     print(\"----------------------------------\")\n",
    "#     print()\n",
    "    \n",
    "    \n",
    "plt.plot(x,msearr, 'o')\n",
    "plt.title(\"MSE(features)\" )\n",
    "plt.show()\n",
    "\n",
    "# plt.plot(x,scorearr, 'o')\n",
    "# plt.title(\"Score\")\n",
    "# plt.show()"
   ]
  },
  {
   "cell_type": "code",
   "execution_count": null,
   "metadata": {},
   "outputs": [],
   "source": []
  }
 ],
 "metadata": {
  "kernelspec": {
   "display_name": "Python 3",
   "language": "python",
   "name": "python3"
  },
  "language_info": {
   "codemirror_mode": {
    "name": "ipython",
    "version": 3
   },
   "file_extension": ".py",
   "mimetype": "text/x-python",
   "name": "python",
   "nbconvert_exporter": "python",
   "pygments_lexer": "ipython3",
   "version": "3.7.4"
  }
 },
 "nbformat": 4,
 "nbformat_minor": 2
}
